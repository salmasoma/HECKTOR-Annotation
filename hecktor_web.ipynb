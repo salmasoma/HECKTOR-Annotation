{
 "cells": [
  {
   "cell_type": "code",
   "execution_count": 4,
   "id": "8dfd3809",
   "metadata": {},
   "outputs": [
    {
     "name": "stdout",
     "output_type": "stream",
     "text": [
      "🚀 HECKTOR Web App Starting...\n",
      "📁 Make sure hecktor_web_embedded.py is in the same folder as this notebook\n",
      "📂 Data folder: /Users/salma/Desktop/HECKTOR25/napari/HECKTOR-Annotation/test\n",
      "✅ Data folder found!\n",
      "📊 Found 2 CT files and 2 PT files\n",
      "🎬 Starting HECKTOR Web Application...\n"
     ]
    },
    {
     "data": {
      "text/html": [
       "\n",
       "    <div style=\"background: linear-gradient(135deg, #667eea 0%, #764ba2 100%); color: white; padding: 20px; border-radius: 10px; text-align: center; margin: 20px 0;\">\n",
       "        <h2>🚀 HECKTOR Web Application</h2>\n",
       "        <p>Web Interface for Medical Image Annotation</p>\n",
       "        <p><strong>Data Folder:</strong> /Users/salma/Desktop/HECKTOR25/napari/HECKTOR-Annotation/test</p>\n",
       "        <p><em>This interface launches the desktop napari viewer for full annotation capabilities</em></p>\n",
       "    </div>\n",
       "    "
      ],
      "text/plain": [
       "<IPython.core.display.HTML object>"
      ]
     },
     "metadata": {},
     "output_type": "display_data"
    },
    {
     "ename": "AttributeError",
     "evalue": "'HTML' object has no attribute 'children'",
     "output_type": "error",
     "traceback": [
      "\u001b[31m---------------------------------------------------------------------------\u001b[39m",
      "\u001b[31mAttributeError\u001b[39m                            Traceback (most recent call last)",
      "\u001b[36mCell\u001b[39m\u001b[36m \u001b[39m\u001b[32mIn[4]\u001b[39m\u001b[32m, line 31\u001b[39m\n\u001b[32m     28\u001b[39m \u001b[38;5;28mprint\u001b[39m(\u001b[33m\"\u001b[39m\u001b[33m🎬 Starting HECKTOR Web Application...\u001b[39m\u001b[33m\"\u001b[39m)\n\u001b[32m     30\u001b[39m \u001b[38;5;28;01mfrom\u001b[39;00m\u001b[38;5;250m \u001b[39m\u001b[34;01mhecktor_web_embedded\u001b[39;00m\u001b[38;5;250m \u001b[39m\u001b[38;5;28;01mimport\u001b[39;00m start_hecktor_web_app\n\u001b[32m---> \u001b[39m\u001b[32m31\u001b[39m app = \u001b[43mstart_hecktor_web_app\u001b[49m\u001b[43m(\u001b[49m\u001b[43mDATA_FOLDER\u001b[49m\u001b[43m)\u001b[49m\n\u001b[32m     33\u001b[39m \u001b[38;5;28mprint\u001b[39m(\u001b[33m\"\u001b[39m\u001b[33m🎉 HECKTOR Web App is running!\u001b[39m\u001b[33m\"\u001b[39m)\n",
      "\u001b[36mFile \u001b[39m\u001b[32m~/Desktop/HECKTOR25/napari/HECKTOR-Annotation/hecktor_web_embedded.py:697\u001b[39m, in \u001b[36mstart_hecktor_web_app\u001b[39m\u001b[34m(data_folder)\u001b[39m\n\u001b[32m    687\u001b[39m display(HTML(\u001b[33m\"\"\"\u001b[39m\n\u001b[32m    688\u001b[39m \u001b[33m<div style=\u001b[39m\u001b[33m\"\u001b[39m\u001b[33mbackground: linear-gradient(135deg, #667eea 0\u001b[39m\u001b[33m%\u001b[39m\u001b[33m, #764ba2 100\u001b[39m\u001b[33m%\u001b[39m\u001b[33m); color: white; padding: 20px; border-radius: 10px; text-align: center; margin: 20px 0;\u001b[39m\u001b[33m\"\u001b[39m\u001b[33m>\u001b[39m\n\u001b[32m    689\u001b[39m \u001b[33m    <h2>🚀 HECKTOR Web Application</h2>\u001b[39m\n\u001b[32m   (...)\u001b[39m\u001b[32m    693\u001b[39m \u001b[33m</div>\u001b[39m\n\u001b[32m    694\u001b[39m \u001b[33m\u001b[39m\u001b[33m\"\"\"\u001b[39m.format(data_folder)))\n\u001b[32m    696\u001b[39m \u001b[38;5;66;03m# Create and return the application\u001b[39;00m\n\u001b[32m--> \u001b[39m\u001b[32m697\u001b[39m app = \u001b[43mHECKTORWebApp\u001b[49m\u001b[43m(\u001b[49m\u001b[43mdata_folder\u001b[49m\u001b[43m)\u001b[49m\n\u001b[32m    698\u001b[39m \u001b[38;5;28;01mreturn\u001b[39;00m app\n",
      "\u001b[36mFile \u001b[39m\u001b[32m~/Desktop/HECKTOR25/napari/HECKTOR-Annotation/hecktor_web_embedded.py:41\u001b[39m, in \u001b[36mHECKTORWebApp.__init__\u001b[39m\u001b[34m(self, data_folder)\u001b[39m\n\u001b[32m     38\u001b[39m \u001b[38;5;28mself\u001b[39m.current_patient_data = \u001b[38;5;28;01mNone\u001b[39;00m\n\u001b[32m     40\u001b[39m \u001b[38;5;66;03m# Create UI\u001b[39;00m\n\u001b[32m---> \u001b[39m\u001b[32m41\u001b[39m \u001b[38;5;28;43mself\u001b[39;49m\u001b[43m.\u001b[49m\u001b[43mcreate_ui\u001b[49m\u001b[43m(\u001b[49m\u001b[43m)\u001b[49m\n",
      "\u001b[36mFile \u001b[39m\u001b[32m~/Desktop/HECKTOR25/napari/HECKTOR-Annotation/hecktor_web_embedded.py:279\u001b[39m, in \u001b[36mHECKTORWebApp.create_ui\u001b[39m\u001b[34m(self)\u001b[39m\n\u001b[32m    276\u001b[39m \u001b[38;5;28mself\u001b[39m.main_interface.layout.display = \u001b[33m'\u001b[39m\u001b[33mnone\u001b[39m\u001b[33m'\u001b[39m\n\u001b[32m    278\u001b[39m \u001b[38;5;66;03m# Set up event handlers\u001b[39;00m\n\u001b[32m--> \u001b[39m\u001b[32m279\u001b[39m \u001b[38;5;28;43mself\u001b[39;49m\u001b[43m.\u001b[49m\u001b[43msetup_event_handlers\u001b[49m\u001b[43m(\u001b[49m\u001b[43m)\u001b[49m\n\u001b[32m    281\u001b[39m \u001b[38;5;66;03m# Display the UI\u001b[39;00m\n\u001b[32m    282\u001b[39m display(\u001b[38;5;28mself\u001b[39m.login_section)\n",
      "\u001b[36mFile \u001b[39m\u001b[32m~/Desktop/HECKTOR25/napari/HECKTOR-Annotation/hecktor_web_embedded.py:297\u001b[39m, in \u001b[36mHECKTORWebApp.setup_event_handlers\u001b[39m\u001b[34m(self)\u001b[39m\n\u001b[32m    294\u001b[39m \u001b[38;5;28mself\u001b[39m.next_button.on_click(\u001b[38;5;28mself\u001b[39m.on_next_patient)\n\u001b[32m    296\u001b[39m \u001b[38;5;66;03m# Viewer launcher\u001b[39;00m\n\u001b[32m--> \u001b[39m\u001b[32m297\u001b[39m \u001b[38;5;28mself\u001b[39m.launch_napari_btn = \u001b[38;5;28;43mself\u001b[39;49m\u001b[43m.\u001b[49m\u001b[43mmain_interface\u001b[49m\u001b[43m.\u001b[49m\u001b[43mchildren\u001b[49m\u001b[43m[\u001b[49m\u001b[32;43m9\u001b[39;49m\u001b[43m]\u001b[49m\u001b[43m.\u001b[49m\u001b[43mchildren\u001b[49m[\u001b[32m0\u001b[39m]\n\u001b[32m    298\u001b[39m \u001b[38;5;28mself\u001b[39m.view_info_btn = \u001b[38;5;28mself\u001b[39m.main_interface.children[\u001b[32m9\u001b[39m].children[\u001b[32m1\u001b[39m]\n\u001b[32m    300\u001b[39m \u001b[38;5;28mself\u001b[39m.launch_napari_btn.on_click(\u001b[38;5;28mself\u001b[39m.on_launch_napari)\n",
      "\u001b[31mAttributeError\u001b[39m: 'HTML' object has no attribute 'children'"
     ]
    }
   ],
   "source": [
    "# Cell 1: Setup\n",
    "import sys\n",
    "import warnings\n",
    "warnings.filterwarnings('ignore')\n",
    "\n",
    "sys.path.append('.')\n",
    "\n",
    "print(\"🚀 HECKTOR Web App Starting...\")\n",
    "print(\"📁 Make sure hecktor_web_embedded.py is in the same folder as this notebook\")\n",
    "\n",
    "# Cell 2: Configuration  \n",
    "DATA_FOLDER = \"/Users/salma/Desktop/HECKTOR25/napari/HECKTOR-Annotation/test\"\n",
    "\n",
    "print(f\"📂 Data folder: {DATA_FOLDER}\")\n",
    "\n",
    "import os\n",
    "if os.path.exists(DATA_FOLDER):\n",
    "    print(\"✅ Data folder found!\")\n",
    "    \n",
    "    import glob\n",
    "    ct_files = glob.glob(os.path.join(DATA_FOLDER, \"*__CT.nii.gz\"))\n",
    "    pt_files = glob.glob(os.path.join(DATA_FOLDER, \"*__PT.nii.gz\"))\n",
    "    print(f\"📊 Found {len(ct_files)} CT files and {len(pt_files)} PT files\")\n",
    "else:\n",
    "    print(\"❌ Data folder not found! Please check the path.\")\n",
    "\n",
    "# Cell 3: Start the Application\n",
    "print(\"🎬 Starting HECKTOR Web Application...\")\n",
    "\n",
    "from hecktor_web_embedded import start_hecktor_web_app\n",
    "app = start_hecktor_web_app(DATA_FOLDER)\n",
    "\n",
    "print(\"🎉 HECKTOR Web App is running!\")"
   ]
  },
  {
   "cell_type": "code",
   "execution_count": null,
   "id": "06e52236",
   "metadata": {},
   "outputs": [],
   "source": []
  }
 ],
 "metadata": {
  "kernelspec": {
   "display_name": "nnInteractive",
   "language": "python",
   "name": "python3"
  },
  "language_info": {
   "codemirror_mode": {
    "name": "ipython",
    "version": 3
   },
   "file_extension": ".py",
   "mimetype": "text/x-python",
   "name": "python",
   "nbconvert_exporter": "python",
   "pygments_lexer": "ipython3",
   "version": "3.12.10"
  }
 },
 "nbformat": 4,
 "nbformat_minor": 5
}
